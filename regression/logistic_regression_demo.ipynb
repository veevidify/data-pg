{
 "cells": [
  {
   "cell_type": "markdown",
   "id": "fcb8bc29",
   "metadata": {},
   "source": [
    "## Logistic Regression\n",
    "- Problem of binary classifier: given dataset $[\\mathbf{x}_1, \\mathbf{x}_2, \\dots, \\mathbf{x}_n] = \\mathbf{X} \\in \\mathbb{R}^{d \\times n}$, and a given set of $n$ labels $[y_1, y_2, \\dots, y_n] = \\mathbf{y} \\in \\mathbb{R}^{1 \\times n}, y_i \\in \\{0, 1\\}$. However dataset $\\mathbf{X}, \\mathbf{y}$ is given in a way that is not linearly separable between 2 classes, that is there doesn't exist $\\mathbf{w}$  such that $\\mathbf{w}^T\\mathbf{x}_i$ can predict the label $y_i$ of the training data.\n",
    "- We want to instead, model the probability $\\mathbf{x}_i$ belongs to class label $0$ or $1$. Assume exists function $f(\\mathbf{x})$ that can model the underlying probability that generate the training data. *Our first goal is to identify what $f$ is*.\n",
    "- Intuitively, the predicted probability should approach 0 (or 1) as data go further away from disputed region. Assuming smooth curve (differentiable everywhere). If this probability density exists: $$\\begin{cases}\n",
    "  P(y_i = 1|\\ \\mathbf{x}_i, \\mathbf{w}) &= f(\\mathbf{w}^T\\mathbf{x}_i)\\\\\n",
    "  P(y_i = 0|\\ \\mathbf{x}_i, \\mathbf{w}) &= 1 - f(\\mathbf{w}^T\\mathbf{x}_i)\\\\\n",
    "\\end{cases}$$\n",
    "- The Maximum-a-posteriori problem: $$\n",
    "  \\mathbf{w}^* = \\underset{\\mathbf{w}}{\\text{argmax}}\\ P(\\mathbf{y}|\\ \\mathbf{X}, \\mathbf{w})\n",
    "$$\n",
    "- Assume the sampled density is $a_i = f(\\mathbf{w}^T\\mathbf{x}_i)$ at datapoint $\\mathbf{x}_i$, the probability density can be modeled after the Bernoulli trial. Assuming our $a_i$ is modeled after $\\lambda$ in Bernoulli's: $$\n",
    "  P(y_i|\\ \\mathbf{x}_i, \\mathbf{w}) = a_i^{y_i}(1-a_i)^{1-y_i}\n",
    "$$\n",
    "- And assume independent observations: $$\\begin{aligned}\n",
    "  P(\\mathbf{y}|\\ \\mathbf{X}, \\mathbf{w})\n",
    "    &= \\prod_{i=1}^n P(y_i|\\ \\mathbf{x}_i, \\mathbf{w})\\\\\n",
    "    &= \\prod_{i=1}^n a_i^{y_i}(1-a_i)^{1-y_i}\\\\\n",
    "\\end{aligned}$$\n",
    "- Define loss function to the MAP as the negative log likelihood, to be minimised: $$\\begin{aligned}\n",
    "  J(\\mathbf{w})\n",
    "    &= -\\ln P(\\mathbf{y}|\\ \\mathbf{X}, \\mathbf{w})\\\\\n",
    "    &= -\\ln \\prod_{i=1}^n a_i^{y_i}(1-a_i)^{1-y_i}\\\\\n",
    "    &= -\\sum_{i=1}^n \\left[y_i\\ln(a_i) + (1-y_i)\\ln(1-a_i)\\right]\\\\\n",
    "\\end{aligned}$$\n",
    "- The goal is to use stochastic gradient descent to minimise $J$. Assess $J_i$ as follow: $$\n",
    "  J_i(\\mathbf{w}) = J_i(\\mathbf{w}; y_i, \\mathbf{x}_i) = -\\left(y_i\\ln(a_i) + (1-y_i)\\ln(1-a_i)\\right)\n",
    "$$\n",
    "- We want to identify what function $f$ is model the probability that satisfies the logistic condition, and at the same time makes SGD easier. First take derivative w.r.t. $\\mathbf{w}$: $$\\begin{aligned}\n",
    "  \\frac{\\partial J_i}{\\partial \\mathbf{w}}\n",
    "    &= \\frac{\\partial J_i}{\\partial a_i} \\frac{\\partial a_i}{\\partial \\mathbf{w}} \\ \\ \\ \\ \\text{(chain rule)}\\\\\n",
    "    &= -\\left( \\frac{y_i}{a_i} - \\frac{1-y_i}{1-a_i} \\right) \\frac{\\partial a_i}{\\partial \\mathbf{w}}\\\\\n",
    "    &= \\frac{a_i - y_i}{a_i(1-a_i)} \\frac{\\partial a_i}{\\partial \\mathbf{w}} \\ \\ (1)\n",
    "\\end{aligned}$$\n",
    "- Set $z = \\mathbf{w}^T\\mathbf{x} \\Rightarrow \\frac{\\partial z}{\\partial \\mathbf{w}} = \\mathbf{x}$, we have $a = f(z)$ and: $$\n",
    "  \\frac{\\partial a_i}{\\partial \\mathbf{w}} = \\frac{\\partial a_i}{\\partial z_i} \\frac{\\partial z_i}{\\partial \\mathbf{w}} = \\frac{\\partial a_i}{\\partial z_i} \\mathbf{x} \\ \\ (2)\n",
    "$$\n",
    "- Therefore, from $(1),\\ (2)$: $$\n",
    "  \\frac{\\partial J_i}{\\partial \\mathbf{w}} = \\frac{a_i - y_i}{a_i(1-a_i)} \\frac{\\partial a_i}{\\partial z_i} \\mathbf{x}_i \\ \\ (3)\n",
    "$$\n",
    "- To simplify SGD, we find $a = f(z)$ to cancel out denominator $a_i(1-a_i)$, or to solve differential equation $\\frac{\\partial a}{\\partial z} = a(1-a)$: $$\\begin{aligned}\n",
    "&\\qquad&\n",
    "  \\frac{\\partial a}{\\partial z} &= a(1-a)\\\\\n",
    "\\iff&& \\frac{\\partial a}{a(1-a)} &= \\partial z\\\\\n",
    "\\iff&& \\partial a\\left(\\frac{1}{a} + \\frac{1}{1-a}\\right) &= \\partial z\\\\\n",
    "\\iff&& \\int \\partial a \\frac{1}{a} + \\int \\partial a \\frac{1}{1-a} &= \\int \\partial z \\ \\ \\ \\ (\\mathrm{d}\\mathbf{w})\\\\\n",
    "\\iff&& \\ln(a) - \\ln(1-a) &= z\\\\\n",
    "\\iff&& \\ln\\left(\\frac{a}{1-a}\\right) &= z\\\\\n",
    "\\iff&& \\frac{a}{1-a} &= \\exp(z)\\\\\n",
    "\\iff&& a &= \\exp(z) - a\\exp(z)\\\\\n",
    "\\iff&& a + a\\exp(z) &= \\exp(z)\\\\\n",
    "\\iff&& a &= \\frac{\\exp(z)}{1+\\exp(z)} = \\frac{1}{1+\\exp({-z})}\\\\\n",
    "\\end{aligned}$$\n",
    "- This is also known as the sigmoidal function $\\sigma{(z)} = \\frac{1}{1+\\exp({-z})}$. Substitute back to $(3)$: $$\n",
    "  \\frac{\\partial J_i}{\\partial \\mathbf{w}} = (a_i - y_i)\\mathbf{x}_i\n",
    "$$\n",
    "- And SGD update will follow: $$\n",
    "  \\mathbf{w}^{(t)} = \\mathbf{w}^{(t-1)} + \\eta (a_i - y_i)\\mathbf{x}_i\n",
    "$$"
   ]
  },
  {
   "cell_type": "code",
   "execution_count": 1,
   "id": "0d4f8c89",
   "metadata": {},
   "outputs": [
    {
     "name": "stdout",
     "output_type": "stream",
     "text": [
      "[[-4.10799374]\n",
      " [ 1.54354223]]\n"
     ]
    },
    {
     "data": {
      "image/png": "[encoded data removed]",
      "text/plain": [
       "<Figure size 432x288 with 1 Axes>"
      ]
     },
     "metadata": {
      "needs_background": "light"
     },
     "output_type": "display_data"
    }
   ],
   "source": [
    "import numpy as np\n",
    "import matplotlib.pyplot as plt\n",
    "\n",
    "from regression.LogisticSigmoidRegression import LogisticSigmoidRegression\n",
    "\n",
    "np.random.seed(2)\n",
    "\n",
    "X = np.array([[0.50, 0.75, 1.00, 1.25, 1.50, 1.75, 1.75, 2.00, 2.25, 2.50,\n",
    "            2.75, 3.00, 3.25, 3.50, 4.00, 4.25, 4.50, 4.75, 5.00, 5.50]])\n",
    "y = np.array([0, 0, 0, 0, 0, 0, 1, 0, 1, 0, 1, 0, 1, 0, 1, 1, 1, 1, 1, 1])\n",
    "\n",
    "X = np.concatenate((np.ones((1, X.shape[1])), X), axis = 0)\n",
    "\n",
    "eta = .05\n",
    "d = X.shape[0]\n",
    "w_init = np.random.randn(d, 1)\n",
    "\n",
    "LSR = LogisticSigmoidRegression(X, y)\n",
    "w = LSR.fit(w_init, eta)\n",
    "print(w[-1])\n",
    "\n",
    "X0 = X[1, np.where(y == 0)][0]\n",
    "y0 = y[np.where(y == 0)]\n",
    "X1 = X[1, np.where(y == 1)][0]\n",
    "y1 = y[np.where(y == 1)]\n",
    "\n",
    "plt.plot(X0, y0, 'ro', markersize = 8)\n",
    "plt.plot(X1, y1, 'bs', markersize = 8)\n",
    "\n",
    "xx = np.linspace(0, 6, 1000)\n",
    "w0 = w[-1][0][0]\n",
    "w1 = w[-1][1][0]\n",
    "threshold = -w0/w1\n",
    "yy = LSR.sigmoid(w0 + w1*xx)\n",
    "\n",
    "plt.axis([-2, 8, -1, 2])\n",
    "plt.plot(xx, yy, 'g-', linewidth = 2)\n",
    "plt.plot(threshold, .5, 'y^', markersize = 8)\n",
    "plt.xlabel('studying hours')\n",
    "plt.ylabel('predicted probability of pass')\n",
    "\n",
    "plt.show()"
   ]
  },
  {
   "cell_type": "code",
   "execution_count": null,
   "id": "33342d6d",
   "metadata": {},
   "outputs": [],
   "source": []
  }
 ],
 "metadata": {
  "kernelspec": {
   "display_name": "Python 3",
   "language": "python",
   "name": "python3"
  },
  "language_info": {
   "codemirror_mode": {
    "name": "ipython",
    "version": 3
   },
   "file_extension": ".py",
   "mimetype": "text/x-python",
   "name": "python",
   "nbconvert_exporter": "python",
   "pygments_lexer": "ipython3",
   "version": "3.6.9"
  }
 },
 "nbformat": 4,
 "nbformat_minor": 5
}
