{
 "cells": [
  {
   "cell_type": "markdown",
   "id": "89962be6",
   "metadata": {},
   "source": [
    "## Softmax Regression"
   ]
  },
  {
   "cell_type": "code",
   "execution_count": null,
   "id": "517494cd",
   "metadata": {},
   "outputs": [],
   "source": [
    "means = [[2, 2], [8, 3], [3, 6]]\n",
    "cov = [[1, 0], [0, 1]]\n",
    "N = 500\n",
    "X0 = np.random.multivariate_normal(means[0], cov, N)\n",
    "X1 = np.random.multivariate_normal(means[1], cov, N)\n",
    "X2 = np.random.multivariate_normal(means[2], cov, N)\n",
    "eta = .05\n",
    "\n",
    "# each column is a datapoint\n",
    "X = np.concatenate((X0, X1, X2), axis = 0).T\n",
    "# extended data\n",
    "X = np.concatenate((np.ones((1, 3*N)), X), axis = 0)\n",
    "C = 3\n",
    "\n",
    "original_label = np.asarray([0]*N + [1]*N + [2]*N).T\n",
    "\n",
    "W_init = np.random.randn(X.shape[0], C)\n",
    "\n",
    "SR = SoftMaxRegression(X, original_label)\n",
    "W = SR.fit(W_init, eta)\n",
    "print(W[-1])\n",
    "\n",
    "# todo: plot"
   ]
  }
 ],
 "metadata": {
  "kernelspec": {
   "display_name": "Python 3",
   "language": "python",
   "name": "python3"
  },
  "language_info": {
   "codemirror_mode": {
    "name": "ipython",
    "version": 3
   },
   "file_extension": ".py",
   "mimetype": "text/x-python",
   "name": "python",
   "nbconvert_exporter": "python",
   "pygments_lexer": "ipython3",
   "version": "3.6.9"
  }
 },
 "nbformat": 4,
 "nbformat_minor": 5
}
