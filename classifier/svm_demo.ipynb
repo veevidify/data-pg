{
 "cells": [
  {
   "cell_type": "markdown",
   "id": "5af89e23",
   "metadata": {},
   "source": [
    "## SVM"
   ]
  },
  {
   "cell_type": "code",
   "execution_count": 44,
   "id": "a9eddd47",
   "metadata": {},
   "outputs": [
    {
     "name": "stdout",
     "output_type": "stream",
     "text": [
      "lambda = \n",
      "[[1.77249323e-09 2.54409063e-09 1.54005753e-09 2.07965583e-09\n",
      "  3.78882254e+00 2.67754395e-09 2.46418103e-09 1.05494263e-09\n",
      "  2.73076749e-09 2.02471088e-09 2.76256394e-09 3.19161190e-09\n",
      "  1.23694991e-09 2.11337753e-09 2.06402761e-09 2.36500849e-09\n",
      "  1.40002069e-09 2.69441522e-09 2.32482447e-09 3.78882254e+00]]\n",
      "line =\n",
      "-2.1965610694381494 -1.6591456550081478\n",
      "8.249006227312977\n",
      "[[ 0.81839761  0.40035553]\n",
      " [ 0.99768709  1.73676612]\n",
      " [ 0.54261362  0.14903807]\n",
      " [ 0.99859334  1.33269904]\n",
      " [ 2.12025232  1.56209465]\n",
      " [ 1.31006016  0.70731251]\n",
      " [ 1.29576993  1.19092   ]\n",
      " [-0.21250488  0.03296529]\n",
      " [ 1.18293976  1.59438346]\n",
      " [ 1.08489749  1.05287423]]\n"
     ]
    },
    {
     "data": {
      "text/plain": [
       "[<matplotlib.lines.Line2D at 0x7f33e19cf080>]"
      ]
     },
     "execution_count": 44,
     "metadata": {},
     "output_type": "execute_result"
    },
    {
     "data": {
      "image/png": "[encoded data removed]",
      "text/plain": [
       "<Figure size 432x288 with 1 Axes>"
      ]
     },
     "metadata": {
      "needs_background": "light"
     },
     "output_type": "display_data"
    }
   ],
   "source": [
    "import numpy as np\n",
    "from classifier.SVM import SVM\n",
    "\n",
    "import matplotlib.pyplot as plt\n",
    "\n",
    "means = [[1, 1], [4, 4]]\n",
    "cov = [[.3, .2], [.2, .3]]\n",
    "N = 10\n",
    "X0 = np.random.multivariate_normal(means[0], cov, N)\n",
    "X1 = np.random.multivariate_normal(means[1], cov, N)\n",
    "X1[-1, :] = [2.7, 2]\n",
    "\n",
    "svm = SVM(X0, X1).fit()\n",
    "\n",
    "w, b = svm.get_hyperplane()\n",
    "print('line =')\n",
    "print(w[0][0], w[1][0], b)\n",
    "\n",
    "# plot\n",
    "plt.scatter(x=X0[:, 0], y=X0[:, 1], color='red')\n",
    "plt.scatter(x=X1[:, 0], y=X1[:, 1], color='blue')\n",
    "\n",
    "xx = np.linspace(np.min(X0), np.max(X1), 8)\n",
    "yy = (-b - w[0][0]*xx) / w[1][0]\n",
    "\n",
    "plt.plot(xx, yy)"
   ]
  },
  {
   "cell_type": "markdown",
   "id": "0a8ea7a4",
   "metadata": {},
   "source": [
    "## Soft-margin SVM"
   ]
  },
  {
   "cell_type": "code",
   "execution_count": null,
   "id": "ca11fd35",
   "metadata": {},
   "outputs": [],
   "source": []
  }
 ],
 "metadata": {
  "kernelspec": {
   "display_name": "Python 3",
   "language": "python",
   "name": "python3"
  },
  "language_info": {
   "codemirror_mode": {
    "name": "ipython",
    "version": 3
   },
   "file_extension": ".py",
   "mimetype": "text/x-python",
   "name": "python",
   "nbconvert_exporter": "python",
   "pygments_lexer": "ipython3",
   "version": "3.6.9"
  }
 },
 "nbformat": 4,
 "nbformat_minor": 5
}
